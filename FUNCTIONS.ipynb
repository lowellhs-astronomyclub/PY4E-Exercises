{
 "cells": [
  {
   "cell_type": "markdown",
   "metadata": {},
   "source": [
    "Exercise 6\n",
    "\n",
    "Rewrite your pay computation with time-and-a-half for overtime (for the purposes of this exercise, let's say that a normal working week is 40 hours) and create a function called `computepay` which takes two parameters (hours and rate).\n",
    "\n",
    "Example Output:\n",
    "\n",
    "`Enter Hours: 45`\n",
    "\n",
    "`Enter Rate: 10`\n",
    "\n",
    "`Pay: 475.0`"
   ]
  },
  {
   "cell_type": "code",
   "execution_count": 5,
   "metadata": {},
   "outputs": [
    {
     "name": "stdout",
     "output_type": "stream",
     "text": [
      "Enter Hours:\n",
      "50\n",
      "Enter Rate:\n",
      "15\n",
      "Pay:\n",
      " 825.0\n"
     ]
    }
   ],
   "source": [
    "# define your function here\n",
    "\n",
    "# then call your function with a parameter of your choice and print the result\n",
    "# test it out with different parameter values!\n",
    "hours = input(\"Enter Hours:\\n\")\n",
    "rate = input(\"Enter Rate:\\n\")\n",
    "def computepay():\n",
    "    if float(hours) <= 40:\n",
    "        pay = float(hours)*float(rate)\n",
    "    if float(hours) > 40:\n",
    "        pay = (float(rate)*40) + ((float(hours)-40)*(float(rate)*1.5))\n",
    "    print(\"Pay:\\n\", pay)\n",
    "computepay()"
   ]
  },
  {
   "cell_type": "markdown",
   "metadata": {},
   "source": [
    "Exercise 7\n",
    "\n",
    "Define a function called `computegrade` that takes a percentage as its parameter and returns the appropriate grade as a string.\n",
    "\n",
    "| Percentage | Grade | \n",
    "|------------|-------|\n",
    "| >= 0.9     | A     |  \n",
    "| >= 0.8     | B     |   \n",
    "| >= 0.7     | C     |  \n",
    "| >= 0.6     | D     |  \n",
    "| < 0.6      | F     |  \n",
    "\n",
    "Example Output:\n",
    "\n",
    "`Enter score: 0.95`\n",
    "\n",
    "`A`"
   ]
  },
  {
   "cell_type": "code",
   "execution_count": 11,
   "metadata": {},
   "outputs": [
    {
     "name": "stdout",
     "output_type": "stream",
     "text": [
      "What is your grade percentage?\n",
      "100\n",
      "Your grade is an A\n"
     ]
    }
   ],
   "source": [
    "# define your function here\n",
    "\n",
    "# then call your function with a parameter of your choice and print the result\n",
    "# test it out with different parameter values!\n",
    "percentage = input(\"What is your grade percentage?\\n\")\n",
    "def computegrade():\n",
    "    if float(percentage) >= 90:\n",
    "        print(\"Your grade is an A\")\n",
    "    elif float(percentage) >= 80:\n",
    "        print(\"Your grade is a B\")\n",
    "    elif float(percentage) >= 70:\n",
    "        print(\"Your grade is a C\")\n",
    "    elif float(percentage) >= 60:\n",
    "        print(\"Your grade is a D\")\n",
    "    else:\n",
    "        print(\"Your grade is an F\")\n",
    "computegrade()\n",
    "    "
   ]
  }
 ],
 "metadata": {
  "kernelspec": {
   "display_name": "Python 3",
   "language": "python",
   "name": "python3"
  },
  "language_info": {
   "codemirror_mode": {
    "name": "ipython",
    "version": 3
   },
   "file_extension": ".py",
   "mimetype": "text/x-python",
   "name": "python",
   "nbconvert_exporter": "python",
   "pygments_lexer": "ipython3",
   "version": "3.7.8"
  }
 },
 "nbformat": 4,
 "nbformat_minor": 4
}
