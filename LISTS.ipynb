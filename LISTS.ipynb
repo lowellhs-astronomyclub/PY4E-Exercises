{
 "cells": [
  {
   "cell_type": "markdown",
   "metadata": {},
   "source": [
    "Exercise 4: \n",
    "\n",
    "The file www.py4e.com/code3/romeo.txt has been add to this repository. Write a program to open the file `romeo.txt` and read it line by line. For each line, split the line into a list of words using the split function. For each word, check to see if the word is already in a list. If the word is not in the list, add it to the list. When the program completes, sort and print the resulting words in alphabetical order.\n",
    "\n",
    ">Example Output:\n",
    ">\n",
    ">Enter file: romeo.txt\n",
    "><p>['Arise', 'But', 'It', 'Juliet', 'Who', 'already',\n",
    "'and', 'breaks', 'east', 'envious', 'fair', 'grief',\n",
    "'is', 'kill', 'light', 'moon', 'pale', 'sick', 'soft',\n",
    "'sun', 'the', 'through', 'what', 'window',\n",
    "'with', 'yonder']\n",
    "\n",
    "\n"
   ]
  },
  {
   "cell_type": "code",
   "execution_count": 12,
   "metadata": {},
   "outputs": [
    {
     "ename": "FileNotFoundError",
     "evalue": "[Errno 2] No such file or directory: 'romeo.txt'",
     "output_type": "error",
     "traceback": [
      "\u001b[0;31m---------------------------------------------------------------------------\u001b[0m",
      "\u001b[0;31mFileNotFoundError\u001b[0m                         Traceback (most recent call last)",
      "\u001b[0;32m<ipython-input-12-6ee151149c68>\u001b[0m in \u001b[0;36m<module>\u001b[0;34m\u001b[0m\n\u001b[1;32m      1\u001b[0m \u001b[0;31m# Write your code here, then Shift+Return to run the cell and see the output below.\u001b[0m\u001b[0;34m\u001b[0m\u001b[0;34m\u001b[0m\u001b[0;34m\u001b[0m\u001b[0m\n\u001b[0;32m----> 2\u001b[0;31m \u001b[0mfile\u001b[0m \u001b[0;34m=\u001b[0m \u001b[0mopen\u001b[0m\u001b[0;34m(\u001b[0m\u001b[0;34m\"romeo.txt\"\u001b[0m\u001b[0;34m)\u001b[0m\u001b[0;34m\u001b[0m\u001b[0;34m\u001b[0m\u001b[0m\n\u001b[0m\u001b[1;32m      3\u001b[0m \u001b[0munique_words\u001b[0m \u001b[0;34m=\u001b[0m \u001b[0;34m[\u001b[0m\u001b[0;34m]\u001b[0m\u001b[0;34m\u001b[0m\u001b[0;34m\u001b[0m\u001b[0m\n\u001b[1;32m      4\u001b[0m \u001b[0;34m\u001b[0m\u001b[0m\n\u001b[1;32m      5\u001b[0m \u001b[0;32mfor\u001b[0m \u001b[0mword\u001b[0m \u001b[0;32min\u001b[0m \u001b[0mfile\u001b[0m\u001b[0;34m.\u001b[0m\u001b[0mread\u001b[0m\u001b[0;34m(\u001b[0m\u001b[0;34m)\u001b[0m\u001b[0;34m.\u001b[0m\u001b[0msplit\u001b[0m\u001b[0;34m(\u001b[0m\u001b[0;34m)\u001b[0m\u001b[0;34m:\u001b[0m\u001b[0;34m\u001b[0m\u001b[0;34m\u001b[0m\u001b[0m\n",
      "\u001b[0;31mFileNotFoundError\u001b[0m: [Errno 2] No such file or directory: 'romeo.txt'"
     ]
    }
   ],
   "source": [
    "# Write your code here, then Shift+Return to run the cell and see the output below.\n",
    "file = open(\"romeo.txt\")\n",
    "unique_words = []\n",
    "\n",
    "for word in file.read().split():\n",
    "    if word not in unique_words:\n",
    "        unique_words.append(word.lower())\n",
    "\n",
    "unique_words.sort()\n",
    "print(unique_words)"
   ]
  },
  {
   "cell_type": "markdown",
   "metadata": {},
   "source": [
    "Exercise 6: \n",
    "\n",
    "Rewrite the program that prompts the user for a list of numbers and prints out the maximum and minimum of the numbers at the end when the user enters “done”. Write the program to store the numbers the user enters in a list and use the max() and min() functions to compute the maximum and minimum numbers after the loop completes.\n",
    "\n",
    ">Example Output\n",
    "><p>Enter a number: 6 <br>\n",
    "Enter a number: 2 <br>\n",
    "Enter a number: 9 <br>\n",
    "Enter a number: 3 <br>\n",
    "Enter a number: 5 <br>\n",
    "Enter a number: done <br>\n",
    "Maximum: 9.0 <br>\n",
    "Minimum: 2.0"
   ]
  },
  {
   "cell_type": "code",
   "execution_count": 1,
   "metadata": {},
   "outputs": [
    {
     "name": "stdout",
     "output_type": "stream",
     "text": [
      "Enter a number:\n",
      "2\n",
      "Enter a number:\n",
      "4\n",
      "Enter a number:\n",
      "6\n",
      "Enter a number:\n",
      "done\n",
      "Maximum: 6.0 Minimum: 2.0\n"
     ]
    }
   ],
   "source": [
    "# Write your code here, then Shift+Return to run the cell and see the output below.\n",
    "\n",
    "values = []\n",
    "\n",
    "while True:\n",
    "    value = input(\"Enter a number:\\n\")\n",
    "    try:\n",
    "        if (value == \"done\"): \n",
    "            break\n",
    "        num = float(value)\n",
    "        values.append(num)\n",
    "    except:\n",
    "        print(\"Invalid response\")\n",
    "print(\"Maximum:\", max(values), \"Minimum:\", min(values))\n",
    "\n"
   ]
  }
 ],
 "metadata": {
  "kernelspec": {
   "display_name": "Python 3",
   "language": "python",
   "name": "python3"
  },
  "language_info": {
   "codemirror_mode": {
    "name": "ipython",
    "version": 3
   },
   "file_extension": ".py",
   "mimetype": "text/x-python",
   "name": "python",
   "nbconvert_exporter": "python",
   "pygments_lexer": "ipython3",
   "version": "3.7.8"
  }
 },
 "nbformat": 4,
 "nbformat_minor": 4
}
