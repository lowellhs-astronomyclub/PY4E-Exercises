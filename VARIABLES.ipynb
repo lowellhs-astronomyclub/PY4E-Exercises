{
 "cells": [
  {
   "cell_type": "markdown",
   "metadata": {},
   "source": [
    "Exercise 2:\n",
    "\n",
    "Write a program that uses `input()` to prompt a user for their name and then welcomes them."
   ]
  },
  {
   "cell_type": "code",
   "execution_count": 1,
   "metadata": {},
   "outputs": [
    {
     "name": "stdout",
     "output_type": "stream",
     "text": [
      "What is your name?Bernice\n",
      "Welcome to Astronomy Club, Bernice\n"
     ]
    }
   ],
   "source": [
    "# Write your code here, then Shift+Return to run the cell and see the output below.\n",
    "name = input(\"What is your name?\")\n",
    "print(\"Welcome to Astronomy Club,\", name)"
   ]
  },
  {
   "cell_type": "markdown",
   "metadata": {},
   "source": [
    "Exercise 3:\n",
    "\n",
    "Write a program to prompt the user for hours and rate per hour to compute gross pay."
   ]
  },
  {
   "cell_type": "code",
   "execution_count": 7,
   "metadata": {},
   "outputs": [
    {
     "name": "stdout",
     "output_type": "stream",
     "text": [
      "How many hours did you work?50\n",
      "What is your pay rate per hour?15\n",
      "Your gross pay is $ 825.0\n"
     ]
    }
   ],
   "source": [
    "# Write your code here, then Shift+Return to run the cell and see the output below.\n",
    "hours = input(\"How many hours did you work?\")\n",
    "rate = input(\"What is your pay rate per hour?\")\n",
    "if float(hours) <= 40:\n",
    "    grossPay = float(hours)*float(rate)\n",
    "if float(hours) > 40:\n",
    "    grossPay = (40*float(rate))+((float(hours)-40)*(float(rate)*1.5))\n",
    "print(\"Your gross pay is $\", grossPay)"
   ]
  }
 ],
 "metadata": {
  "kernelspec": {
   "display_name": "Python 3",
   "language": "python",
   "name": "python3"
  },
  "language_info": {
   "codemirror_mode": {
    "name": "ipython",
    "version": 3
   },
   "file_extension": ".py",
   "mimetype": "text/x-python",
   "name": "python",
   "nbconvert_exporter": "python",
   "pygments_lexer": "ipython3",
   "version": "3.7.8"
  }
 },
 "nbformat": 4,
 "nbformat_minor": 4
}
