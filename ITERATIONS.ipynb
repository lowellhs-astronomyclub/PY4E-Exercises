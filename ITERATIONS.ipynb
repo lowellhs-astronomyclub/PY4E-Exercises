{
 "cells": [
  {
   "cell_type": "markdown",
   "metadata": {},
   "source": [
    "Exercise 1\n",
    "\n",
    "Write a program which repeatedly reads numbers until the user enters “done”. Once “done” is entered, print out the total, count, and average of the numbers. If the user enters anything other than a number, detect their mistake using try and except and print an error message and skip to the next number.\n",
    "\n",
    ">Example Output:\n",
    ">\n",
    ">Enter a number: 4 <br>\n",
    ">Enter a number: 5 <br>\n",
    ">Enter a number: bad data <br>\n",
    ">Invalid input <br>\n",
    ">Enter a number: 7 <br>\n",
    ">Enter a number: done <br>\n",
    ">16 3 5.333333333333333 <br>"
   ]
  },
  {
   "cell_type": "code",
   "execution_count": 1,
   "metadata": {},
   "outputs": [
    {
     "name": "stdout",
     "output_type": "stream",
     "text": [
      "Enter a number: 1\n",
      "Enter a number: 2\n",
      "Enter a number: 3\n",
      "Enter a number: 4\n",
      "Enter a number: 5\n",
      "Enter a number: done\n",
      "15.0 5 3.0\n"
     ]
    }
   ],
   "source": [
    "# Write your code here, then Shift+Return to run the cell and see the output below.\n",
    "sum = 0\n",
    "count = 0\n",
    "average = 0\n",
    "\n",
    "while True:\n",
    "  try:\n",
    "    x = input(\"Enter a number: \")\n",
    "    if (x == \"done\"): \n",
    "     break\n",
    "    value = float(x)\n",
    "    sum = value + sum\n",
    "    count = count + 1\n",
    "    average = sum / count\n",
    "  except:\n",
    "    print(\"Invalid input.\")\n",
    "print(sum, count, average)"
   ]
  },
  {
   "cell_type": "markdown",
   "metadata": {},
   "source": [
    "Exercise 2: \n",
    "\n",
    "Write another program that prompts for a list of numbers as above and at the end prints out both the maximum and minimum of the numbers instead of the average."
   ]
  },
  {
   "cell_type": "code",
   "execution_count": 3,
   "metadata": {},
   "outputs": [
    {
     "name": "stdout",
     "output_type": "stream",
     "text": [
      "How many numbers: 3\n",
      "Enter number 1\n",
      "Enter number 8\n",
      "Enter number 2\n",
      "Maximum: 8 Minimum: 1\n"
     ]
    }
   ],
   "source": [
    "# Write your code here, then Shift+Return to run the cell and see the output below.\n",
    "lst = []\n",
    "num = int(input(\"How many numbers: \"))\n",
    "for n in range(num):\n",
    "    numbers = int(input(\"Enter number \"))\n",
    "    lst.append(numbers)\n",
    "print(\"Maximum:\", max(lst), \"Minimum:\", min(lst))"
   ]
  }
 ],
 "metadata": {
  "kernelspec": {
   "display_name": "Python 3",
   "language": "python",
   "name": "python3"
  },
  "language_info": {
   "codemirror_mode": {
    "name": "ipython",
    "version": 3
   },
   "file_extension": ".py",
   "mimetype": "text/x-python",
   "name": "python",
   "nbconvert_exporter": "python",
   "pygments_lexer": "ipython3",
   "version": "3.7.8"
  }
 },
 "nbformat": 4,
 "nbformat_minor": 4
}
